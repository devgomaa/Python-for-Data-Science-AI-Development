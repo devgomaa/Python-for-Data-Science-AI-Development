{
 "cells": [
  {
   "cell_type": "code",
   "execution_count": 1,
   "metadata": {},
   "outputs": [],
   "source": [
    "# lets import pandas\n",
    "import pandas as pd"
   ]
  },
  {
   "cell_type": "code",
   "execution_count": 9,
   "metadata": {},
   "outputs": [
    {
     "name": "stdout",
     "output_type": "stream",
     "text": [
      "['x', 'y', 'z']\n",
      "x\n"
     ]
    }
   ],
   "source": [
    "# lets Use the Split Function to fetch x\n",
    "s = \"x y z\"\n",
    "\n",
    "print(s.split(' '))\n",
    "print(s.split(' ')[0]) # to fetch x"
   ]
  },
  {
   "cell_type": "code",
   "execution_count": 5,
   "metadata": {},
   "outputs": [
    {
     "data": {
      "text/html": [
       "<div>\n",
       "<style scoped>\n",
       "    .dataframe tbody tr th:only-of-type {\n",
       "        vertical-align: middle;\n",
       "    }\n",
       "\n",
       "    .dataframe tbody tr th {\n",
       "        vertical-align: top;\n",
       "    }\n",
       "\n",
       "    .dataframe thead th {\n",
       "        text-align: right;\n",
       "    }\n",
       "</style>\n",
       "<table border=\"1\" class=\"dataframe\">\n",
       "  <thead>\n",
       "    <tr style=\"text-align: right;\">\n",
       "      <th></th>\n",
       "      <th>movieId</th>\n",
       "      <th>title</th>\n",
       "      <th>genres</th>\n",
       "    </tr>\n",
       "  </thead>\n",
       "  <tbody>\n",
       "    <tr>\n",
       "      <th>0</th>\n",
       "      <td>1</td>\n",
       "      <td>Toy Story (1995)</td>\n",
       "      <td>Adventure|Animation|Children|Comedy|Fantasy</td>\n",
       "    </tr>\n",
       "    <tr>\n",
       "      <th>1</th>\n",
       "      <td>2</td>\n",
       "      <td>Jumanji (1995)</td>\n",
       "      <td>Adventure|Children|Fantasy</td>\n",
       "    </tr>\n",
       "    <tr>\n",
       "      <th>2</th>\n",
       "      <td>3</td>\n",
       "      <td>Grumpier Old Men (1995)</td>\n",
       "      <td>Comedy|Romance</td>\n",
       "    </tr>\n",
       "    <tr>\n",
       "      <th>3</th>\n",
       "      <td>4</td>\n",
       "      <td>Waiting to Exhale (1995)</td>\n",
       "      <td>Comedy|Drama|Romance</td>\n",
       "    </tr>\n",
       "    <tr>\n",
       "      <th>4</th>\n",
       "      <td>5</td>\n",
       "      <td>Father of the Bride Part II (1995)</td>\n",
       "      <td>Comedy</td>\n",
       "    </tr>\n",
       "  </tbody>\n",
       "</table>\n",
       "</div>"
      ],
      "text/plain": [
       "   movieId                               title  \\\n",
       "0        1                    Toy Story (1995)   \n",
       "1        2                      Jumanji (1995)   \n",
       "2        3             Grumpier Old Men (1995)   \n",
       "3        4            Waiting to Exhale (1995)   \n",
       "4        5  Father of the Bride Part II (1995)   \n",
       "\n",
       "                                        genres  \n",
       "0  Adventure|Animation|Children|Comedy|Fantasy  \n",
       "1                   Adventure|Children|Fantasy  \n",
       "2                               Comedy|Romance  \n",
       "3                         Comedy|Drama|Romance  \n",
       "4                                       Comedy  "
      ]
     },
     "execution_count": 5,
     "metadata": {},
     "output_type": "execute_result"
    }
   ],
   "source": [
    "# lets try split function with a DataFrame\n",
    "data = pd.read_csv('movie.csv')\n",
    "\n",
    "# lets check the head of the dataset\n",
    "data.head()"
   ]
  },
  {
   "cell_type": "code",
   "execution_count": 6,
   "metadata": {},
   "outputs": [
    {
     "data": {
      "text/plain": [
       "0       [Adventure, Animation, Children, Comedy, Fantasy]\n",
       "1                          [Adventure, Children, Fantasy]\n",
       "2                                       [Comedy, Romance]\n",
       "3                                [Comedy, Drama, Romance]\n",
       "4                                                [Comedy]\n",
       "                              ...                        \n",
       "9120                          [Adventure, Drama, Romance]\n",
       "9121                 [Action, Adventure, Fantasy, Sci-Fi]\n",
       "9122                                        [Documentary]\n",
       "9123                                             [Comedy]\n",
       "9124                                        [Documentary]\n",
       "Name: genres, Length: 9125, dtype: object"
      ]
     },
     "execution_count": 6,
     "metadata": {},
     "output_type": "execute_result"
    }
   ],
   "source": [
    "# lets Use the Split Function to Split the Genres.\n",
    "data['genres'].str.split('|')"
   ]
  },
  {
   "cell_type": "code",
   "execution_count": 8,
   "metadata": {},
   "outputs": [
    {
     "data": {
      "text/plain": [
       "0        (1995)\n",
       "1        (1995)\n",
       "2        (1995)\n",
       "3        (1995)\n",
       "4        (1995)\n",
       "         ...   \n",
       "9120     (2016)\n",
       "9121     (2016)\n",
       "9122     (2016)\n",
       "9123     (1936)\n",
       "9124    Unboxed\n",
       "Name: year, Length: 9125, dtype: object"
      ]
     },
     "execution_count": 8,
     "metadata": {},
     "output_type": "execute_result"
    }
   ],
   "source": [
    "# lets Try to Split the Year of Release from the Title of the Movie\n",
    "# Lets Extract Year of Release from the Movie Title\n",
    "data['y'] = data['title'].str.split(' ')\n",
    "data['year'] = data['y'].apply(lambda x: x[-1])\n",
    "\n",
    "data['year']"
   ]
  },
  {
   "cell_type": "code",
   "execution_count": 11,
   "metadata": {},
   "outputs": [
    {
     "data": {
      "text/plain": [
       "0          1995\n",
       "1          1995\n",
       "2          1995\n",
       "3          1995\n",
       "4          1995\n",
       "         ...   \n",
       "9120       2016\n",
       "9121       2016\n",
       "9122       2016\n",
       "9123       1936\n",
       "9124    Unboxed\n",
       "Name: year, Length: 9125, dtype: object"
      ]
     },
     "execution_count": 11,
     "metadata": {},
     "output_type": "execute_result"
    }
   ],
   "source": [
    "# lets remove the Opening and Closing Brackets from the String using strip function\n",
    "data['year'] = data['year'].str.strip(')')\n",
    "data['year'] = data['year'].str.strip('(')\n",
    "\n",
    "data['year']"
   ]
  }
 ],
 "metadata": {
  "kernelspec": {
   "display_name": "Python 3",
   "language": "python",
   "name": "python3"
  },
  "language_info": {
   "codemirror_mode": {
    "name": "ipython",
    "version": 3
   },
   "file_extension": ".py",
   "mimetype": "text/x-python",
   "name": "python",
   "nbconvert_exporter": "python",
   "pygments_lexer": "ipython3",
   "version": "3.6.8"
  }
 },
 "nbformat": 4,
 "nbformat_minor": 4
}
