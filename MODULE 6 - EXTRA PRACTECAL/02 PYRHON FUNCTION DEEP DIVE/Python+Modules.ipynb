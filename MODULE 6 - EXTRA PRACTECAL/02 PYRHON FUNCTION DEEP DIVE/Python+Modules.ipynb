{
 "cells": [
  {
   "cell_type": "code",
   "execution_count": 5,
   "metadata": {},
   "outputs": [],
   "source": [
    "import cal"
   ]
  },
  {
   "cell_type": "code",
   "execution_count": 6,
   "metadata": {},
   "outputs": [
    {
     "data": {
      "text/plain": [
       "18"
      ]
     },
     "execution_count": 6,
     "metadata": {},
     "output_type": "execute_result"
    }
   ],
   "source": [
    "cal.addition(8,10)"
   ]
  },
  {
   "cell_type": "code",
   "execution_count": 7,
   "metadata": {},
   "outputs": [
    {
     "data": {
      "text/plain": [
       "6"
      ]
     },
     "execution_count": 7,
     "metadata": {},
     "output_type": "execute_result"
    }
   ],
   "source": [
    "cal.subtraction(10,4)"
   ]
  },
  {
   "cell_type": "code",
   "execution_count": 8,
   "metadata": {},
   "outputs": [
    {
     "data": {
      "text/plain": [
       "30"
      ]
     },
     "execution_count": 8,
     "metadata": {},
     "output_type": "execute_result"
    }
   ],
   "source": [
    "cal.multiplication(6,5)"
   ]
  },
  {
   "cell_type": "code",
   "execution_count": 1,
   "metadata": {},
   "outputs": [],
   "source": [
    "from bollywood_puzzle1 import Game"
   ]
  },
  {
   "cell_type": "code",
   "execution_count": 2,
   "metadata": {},
   "outputs": [
    {
     "name": "stdout",
     "output_type": "stream",
     "text": [
      "++++++++++++++++++++\n",
      "MOVIE: -o--a- -e--e-\n",
      "++++++++++++++++++++\n",
      "Alphabets used: \n",
      "Wrong Attempts Left: 5\n",
      "Give Input: s\n",
      "++++++++++++++++++++\n",
      "MOVIE: -o--a- -e--e-\n",
      "++++++++++++++++++++\n",
      "\n",
      "Alphabets used: (S) \n",
      "Wrong Attempts Left: 4\n",
      "Give Input: r\n",
      "++++++++++++++++++++\n",
      "MOVIE: -o--a- -e--e-\n",
      "++++++++++++++++++++\n",
      "\n",
      "Alphabets used: (S) (R) \n",
      "Wrong Attempts Left: 3\n",
      "Give Input: w\n",
      "++++++++++++++++++++\n",
      "MOVIE: -o--a- -e--e-\n",
      "++++++++++++++++++++\n",
      "\n",
      "Alphabets used: (S) (R) (W) \n",
      "Wrong Attempts Left: 2\n",
      "Give Input: t\n",
      "++++++++++++++++++++\n",
      "MOVIE: -o--a- -e--et\n",
      "++++++++++++++++++++\n",
      "\n",
      "Alphabets used: (S) (R) (W) T \n",
      "Wrong Attempts Left: 2\n",
      "Give Input: m\n",
      "++++++++++++++++++++\n",
      "MOVIE: -om-a- -e--et\n",
      "++++++++++++++++++++\n",
      "\n",
      "Alphabets used: (S) (R) (W) T M \n",
      "Wrong Attempts Left: 2\n",
      "Give Input: n\n",
      "++++++++++++++++++++\n",
      "MOVIE: -om-a- -e--et\n",
      "++++++++++++++++++++\n",
      "\n",
      "Alphabets used: (S) (R) (W) T M (N) \n",
      "Wrong Attempts Left: 1\n",
      "Give Input: h\n",
      "++++++++++++++++++++\n",
      "MOVIE: -om-a- -e--et\n",
      "++++++++++++++++++++\n",
      "\n",
      "GAME OVER 😑😑😑😑😑\n",
      "++++++++++++++++++++\n",
      "MOVIE: bombay velvet\n",
      "++++++++++++++++++++\n"
     ]
    }
   ],
   "source": [
    "Game()"
   ]
  },
  {
   "cell_type": "code",
   "execution_count": 3,
   "metadata": {},
   "outputs": [
    {
     "name": "stdout",
     "output_type": "stream",
     "text": [
      "+++++++++++++++++++\n",
      "MOVIE: -o-e au- -u-\n",
      "+++++++++++++++++++\n",
      "Alphabets used: \n",
      "Wrong Attempts Left: 5\n",
      "Give Input: s\n",
      "+++++++++++++++++++\n",
      "MOVIE: -o-e au- -u-\n",
      "+++++++++++++++++++\n",
      "\n",
      "Alphabets used: (S) \n",
      "Wrong Attempts Left: 4\n",
      "Give Input: r\n",
      "+++++++++++++++++++\n",
      "MOVIE: -o-e aur -u-\n",
      "+++++++++++++++++++\n",
      "\n",
      "Alphabets used: (S) R \n",
      "Wrong Attempts Left: 4\n",
      "Give Input: y\n",
      "+++++++++++++++++++\n",
      "MOVIE: -o-e aur -u-\n",
      "+++++++++++++++++++\n",
      "\n",
      "Alphabets used: (S) R (Y) \n",
      "Wrong Attempts Left: 3\n",
      "Give Input: t\n",
      "+++++++++++++++++++\n",
      "MOVIE: -o-e aur -u-\n",
      "+++++++++++++++++++\n",
      "\n",
      "Alphabets used: (S) R (Y) (T) \n",
      "Wrong Attempts Left: 2\n",
      "Give Input: b\n",
      "+++++++++++++++++++\n",
      "MOVIE: -o-e aur -u-\n",
      "+++++++++++++++++++\n",
      "\n",
      "Alphabets used: (S) R (Y) (T) (B) \n",
      "Wrong Attempts Left: 1\n",
      "Give Input: m\n",
      "+++++++++++++++++++\n",
      "MOVIE: -o-e aur -um\n",
      "+++++++++++++++++++\n",
      "\n",
      "Alphabets used: (S) R (Y) (T) (B) M \n",
      "Wrong Attempts Left: 1\n",
      "Give Input: h\n",
      "+++++++++++++++++++\n",
      "MOVIE: ho-e aur hum\n",
      "+++++++++++++++++++\n",
      "\n",
      "Alphabets used: (S) R (Y) (T) (B) M H \n",
      "Wrong Attempts Left: 1\n",
      "Give Input: p\n",
      "+++++++++++++++++++\n",
      "MOVIE: hope aur hum\n",
      "+++++++++++++++++++\n",
      "\n",
      "CONGRATULATIONS! You did it 😊😊😊😊😊\n"
     ]
    }
   ],
   "source": [
    "Game()"
   ]
  },
  {
   "cell_type": "code",
   "execution_count": null,
   "metadata": {},
   "outputs": [],
   "source": []
  }
 ],
 "metadata": {
  "kernelspec": {
   "display_name": "Python 3",
   "language": "python",
   "name": "python3"
  },
  "language_info": {
   "codemirror_mode": {
    "name": "ipython",
    "version": 3
   },
   "file_extension": ".py",
   "mimetype": "text/x-python",
   "name": "python",
   "nbconvert_exporter": "python",
   "pygments_lexer": "ipython3",
   "version": "3.7.6"
  }
 },
 "nbformat": 4,
 "nbformat_minor": 4
}
