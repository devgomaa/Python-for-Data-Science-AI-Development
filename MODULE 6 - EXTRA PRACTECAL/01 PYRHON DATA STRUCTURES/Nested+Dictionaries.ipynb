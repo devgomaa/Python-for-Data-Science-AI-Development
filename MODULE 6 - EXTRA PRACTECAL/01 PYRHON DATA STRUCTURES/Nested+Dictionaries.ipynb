{
 "cells": [
  {
   "cell_type": "code",
   "execution_count": 10,
   "metadata": {},
   "outputs": [],
   "source": [
    "students_marks={'Ram':{\"Maths\":75,\"Science\":80,\"English\":78},\n",
    "                 \"Shyam\":{\"Maths\":60,\"Science\":65,\"English\":70},\n",
    "                  \"Mohan\":{\"Maths\":80,\"Science\":50,\"English\":68}}"
   ]
  },
  {
   "cell_type": "code",
   "execution_count": 11,
   "metadata": {},
   "outputs": [
    {
     "data": {
      "text/plain": [
       "{'Ram': {'Maths': 75, 'Science': 80, 'English': 78},\n",
       " 'Shyam': {'Maths': 60, 'Science': 65, 'English': 70},\n",
       " 'Mohan': {'Maths': 80, 'Science': 50, 'English': 68}}"
      ]
     },
     "execution_count": 11,
     "metadata": {},
     "output_type": "execute_result"
    }
   ],
   "source": [
    "students_marks"
   ]
  },
  {
   "cell_type": "code",
   "execution_count": 12,
   "metadata": {},
   "outputs": [
    {
     "name": "stdout",
     "output_type": "stream",
     "text": [
      "{'Maths': 80, 'Science': 50, 'English': 68}\n"
     ]
    }
   ],
   "source": [
    "print(students_marks[\"Mohan\"])"
   ]
  },
  {
   "cell_type": "code",
   "execution_count": 13,
   "metadata": {},
   "outputs": [
    {
     "name": "stdout",
     "output_type": "stream",
     "text": [
      "80\n"
     ]
    }
   ],
   "source": [
    "print(students_marks[\"Mohan\"][\"Maths\"])"
   ]
  },
  {
   "cell_type": "code",
   "execution_count": 14,
   "metadata": {},
   "outputs": [],
   "source": [
    "students_marks[\"Rohan\"]={}\n",
    "students_marks[\"Rohan\"][\"Maths\"]=79\n",
    "students_marks[\"Rohan\"][\"Science\"]=80\n",
    "students_marks[\"Rohan\"][\"English\"]=90"
   ]
  },
  {
   "cell_type": "code",
   "execution_count": 15,
   "metadata": {},
   "outputs": [
    {
     "name": "stdout",
     "output_type": "stream",
     "text": [
      "{'Maths': 79, 'Science': 80, 'English': 90}\n"
     ]
    }
   ],
   "source": [
    "print(students_marks[\"Rohan\"])"
   ]
  },
  {
   "cell_type": "code",
   "execution_count": 16,
   "metadata": {},
   "outputs": [
    {
     "data": {
      "text/plain": [
       "{'Maths': 60, 'Science': 65, 'English': 70}"
      ]
     },
     "execution_count": 16,
     "metadata": {},
     "output_type": "execute_result"
    }
   ],
   "source": [
    "students_marks.pop(\"Shyam\")"
   ]
  },
  {
   "cell_type": "code",
   "execution_count": 17,
   "metadata": {},
   "outputs": [
    {
     "data": {
      "text/plain": [
       "{'Ram': {'Maths': 75, 'Science': 80, 'English': 78},\n",
       " 'Mohan': {'Maths': 80, 'Science': 50, 'English': 68},\n",
       " 'Rohan': {'Maths': 79, 'Science': 80, 'English': 90}}"
      ]
     },
     "execution_count": 17,
     "metadata": {},
     "output_type": "execute_result"
    }
   ],
   "source": [
    "students_marks"
   ]
  },
  {
   "cell_type": "code",
   "execution_count": 18,
   "metadata": {},
   "outputs": [
    {
     "name": "stdout",
     "output_type": "stream",
     "text": [
      "Name of student Ram\n",
      "Maths : 75\n",
      "Science : 80\n",
      "English : 78\n",
      "Name of student Mohan\n",
      "Maths : 80\n",
      "Science : 50\n",
      "English : 68\n",
      "Name of student Rohan\n",
      "Maths : 79\n",
      "Science : 80\n",
      "English : 90\n"
     ]
    }
   ],
   "source": [
    "for name,subjects in students_marks.items():\n",
    "    print(\"Name of student\", name)\n",
    "    for marks in subjects:\n",
    "        print(marks,\":\",subjects[marks])\n"
   ]
  },
  {
   "cell_type": "code",
   "execution_count": null,
   "metadata": {},
   "outputs": [],
   "source": []
  }
 ],
 "metadata": {
  "kernelspec": {
   "display_name": "Python 3",
   "language": "python",
   "name": "python3"
  },
  "language_info": {
   "codemirror_mode": {
    "name": "ipython",
    "version": 3
   },
   "file_extension": ".py",
   "mimetype": "text/x-python",
   "name": "python",
   "nbconvert_exporter": "python",
   "pygments_lexer": "ipython3",
   "version": "3.7.6"
  }
 },
 "nbformat": 4,
 "nbformat_minor": 4
}
