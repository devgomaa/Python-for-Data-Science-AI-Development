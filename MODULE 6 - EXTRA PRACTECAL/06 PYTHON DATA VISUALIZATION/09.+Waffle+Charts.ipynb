{
 "cells": [
  {
   "cell_type": "code",
   "execution_count": 3,
   "metadata": {},
   "outputs": [
    {
     "data": {
      "image/png": "[encoded data removed]",
      "text/plain": [
       "<Waffle size 432x288 with 1 Axes>"
      ]
     },
     "metadata": {
      "needs_background": "light"
     },
     "output_type": "display_data"
    }
   ],
   "source": [
    "# python program to generate Waffle Chart \n",
    "\n",
    "# importing all necessary requirements \n",
    "import pandas as pd \n",
    "import matplotlib.pyplot as plt \n",
    "from pywaffle import Waffle \n",
    "\n",
    "# creation of a dataframe \n",
    "data ={'phone': ['Xiaomi', 'Samsung', \n",
    "            'Apple', 'Nokia', 'Realme'], \n",
    "    'stock': [44, 12, 8, 5, 3] \n",
    "    } \n",
    "\n",
    "df = pd.DataFrame(data) \n",
    "\n",
    "# To plot the waffle Chart \n",
    "fig = plt.figure( \n",
    "    FigureClass = Waffle, \n",
    "    rows = 5, \n",
    "    values = df.stock, \n",
    "    labels = list(df.phone) \n",
    ") \n"
   ]
  }
 ],
 "metadata": {
  "kernelspec": {
   "display_name": "Python 3",
   "language": "python",
   "name": "python3"
  },
  "language_info": {
   "codemirror_mode": {
    "name": "ipython",
    "version": 3
   },
   "file_extension": ".py",
   "mimetype": "text/x-python",
   "name": "python",
   "nbconvert_exporter": "python",
   "pygments_lexer": "ipython3",
   "version": "3.6.8"
  }
 },
 "nbformat": 4,
 "nbformat_minor": 4
}
